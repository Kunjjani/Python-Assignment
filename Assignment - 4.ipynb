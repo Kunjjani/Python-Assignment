{
 "cells": [
  {
   "cell_type": "markdown",
   "id": "c0be32d8",
   "metadata": {},
   "source": [
    "![](shiva.jpg)"
   ]
  },
  {
   "cell_type": "markdown",
   "id": "58d46075",
   "metadata": {},
   "source": [
    "1.1 Write a Python Program(with class concepts) to find the area of the triangle using the below \n",
    "formula.\n",
    "area = (s*(s-a)*(s-b)*(s-c)) ** 0.5\n",
    "Function to take the length of the sides of triangle from user should be defined in the parent \n",
    "class and function to calculate the area should be defined in subclass."
   ]
  },
  {
   "cell_type": "code",
   "execution_count": 1,
   "id": "cf4f8609",
   "metadata": {},
   "outputs": [
    {
     "name": "stdout",
     "output_type": "stream",
     "text": [
      "Enter the first side of the triangle : 12\n",
      "Enter the second side of the triangle : 12\n",
      "Enter the third side of the triangle : 12\n",
      "The area of the triangle given sides (12.0, 12.0, 12.0) is 62.353829072479584\n"
     ]
    }
   ],
   "source": [
    "class Aot:\n",
    "    def __init__(self):\n",
    "        self.a=float(input(\"Enter the first side of the triangle : \"))\n",
    "        self.b=float(input(\"Enter the second side of the triangle : \"))\n",
    "        self.c=float(input(\"Enter the third side of the triangle : \"))\n",
    "        self.s=(self.a+self.b+self.c)/2\n",
    "class aot(Aot):\n",
    "    def cal_area(self):\n",
    "        area_of_triangle=(self.s*(self.s-self.a)*(self.s-self.b)*(self.s-self.c))**0.5\n",
    "        print(f'The area of the triangle given sides {self.a,self.b,self.c} is',area_of_triangle)\n",
    "x=aot()\n",
    "x.cal_area()"
   ]
  },
  {
   "cell_type": "markdown",
   "id": "8bd4c6ad",
   "metadata": {},
   "source": [
    "1.2 Write a function filter_long_words() that takes a list of words and an integer n and returns \n",
    "the list of words that are longer than n."
   ]
  },
  {
   "cell_type": "code",
   "execution_count": 2,
   "id": "8a36ada2",
   "metadata": {},
   "outputs": [],
   "source": [
    "def filter_long_words(l,n):\n",
    "    print('[',end='')\n",
    "    for i in l:\n",
    "        if len(i)>n:\n",
    "            print(f'{i}',end=' ')\n",
    "    print(']')"
   ]
  },
  {
   "cell_type": "code",
   "execution_count": 3,
   "id": "db7c6f15",
   "metadata": {},
   "outputs": [
    {
     "name": "stdout",
     "output_type": "stream",
     "text": [
      "[ineuron ineuron.ai ]\n"
     ]
    }
   ],
   "source": [
    "names=['i','in','ine','ineu','ineur','ineuro','ineuron','ineuron.ai']\n",
    "filter_long_words(names,6)"
   ]
  },
  {
   "cell_type": "markdown",
   "id": "8797b9ce",
   "metadata": {},
   "source": [
    "2.1 Write a Python program using function concept that maps list of words into a list of integers \n",
    "representing the lengths of the corresponding words.\n",
    "\n",
    "Hint: If a list [ ab,cde,erty] is passed on to the python function output should come as [2,3,4]\n",
    "Here 2,3 and 4 are the lengths of the words in the list."
   ]
  },
  {
   "cell_type": "code",
   "execution_count": 4,
   "id": "54d3bf06",
   "metadata": {},
   "outputs": [],
   "source": [
    "def list_to_int(l):\n",
    "    print('[',end='')\n",
    "    for x in l:\n",
    "        print(len(x),end=',')\n",
    "    print(']')"
   ]
  },
  {
   "cell_type": "code",
   "execution_count": 5,
   "id": "371792fc",
   "metadata": {},
   "outputs": [
    {
     "name": "stdout",
     "output_type": "stream",
     "text": [
      "[1,2,3,4,5,6,7,]\n"
     ]
    }
   ],
   "source": [
    "l=['i','in','ine','ineu','ineur','ineuro','ineuron']\n",
    "list_to_int(l)"
   ]
  },
  {
   "cell_type": "markdown",
   "id": "01bd7156",
   "metadata": {},
   "source": [
    "2.2 Write a Python function which takes a character (i.e. a string of length 1) and returns True if \n",
    "it is a vowel, False otherwise."
   ]
  },
  {
   "cell_type": "code",
   "execution_count": 6,
   "id": "80d23861",
   "metadata": {},
   "outputs": [],
   "source": [
    "def vowel_check(alphabet):\n",
    "    vowels=['a','e','i','o','u']\n",
    "    if alphabet.lower() in vowels:\n",
    "        return True\n",
    "    elif alphabet=='':\n",
    "        return 'Please provide a string'\n",
    "    elif len(alphabet)>1:\n",
    "        return 'We check only of a single alphabet'\n",
    "    else:\n",
    "        return False"
   ]
  },
  {
   "cell_type": "code",
   "execution_count": 7,
   "id": "c3c8c41c",
   "metadata": {},
   "outputs": [
    {
     "data": {
      "text/plain": [
       "True"
      ]
     },
     "execution_count": 7,
     "metadata": {},
     "output_type": "execute_result"
    }
   ],
   "source": [
    "vowel_check('u')"
   ]
  }
 ],
 "metadata": {
  "kernelspec": {
   "display_name": "Python 3",
   "language": "python",
   "name": "python3"
  },
  "language_info": {
   "codemirror_mode": {
    "name": "ipython",
    "version": 3
   },
   "file_extension": ".py",
   "mimetype": "text/x-python",
   "name": "python",
   "nbconvert_exporter": "python",
   "pygments_lexer": "ipython3",
   "version": "3.8.8"
  }
 },
 "nbformat": 4,
 "nbformat_minor": 5
}
