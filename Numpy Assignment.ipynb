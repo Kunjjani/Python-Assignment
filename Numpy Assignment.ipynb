{
 "cells": [
  {
   "cell_type": "markdown",
   "id": "126de333",
   "metadata": {},
   "source": [
    "![](shiva.jpg)"
   ]
  },
  {
   "cell_type": "markdown",
   "id": "4175f9aa",
   "metadata": {},
   "source": [
    "Input 10 20 30 40 50 60 70 80 90 100<br> \n",
    "y1 25 = (10+20+30+40)/4<br>\n",
    "y2 35 = (20+30+40+50)/4<br>\n",
    "y3 45 = (30+40+50+60)/4<br>\n",
    "y4 55 = (40+50+60+70)/4<br>\n",
    "y5 65 = (50+60+70+80)/4<br>\n",
    "y6 75 = (60+70+80+90)/4<br>\n",
    "y7 85 = (70+80+90+100)/4<br>\n",
    "Thus, the moving average sequence has n-k+1=10-4+1=7 values.<br>\n",
    "Question: Write a function to find moving average in an array over a window:\n",
    " Test it over [3, 5, 7, 2, 8, 10, 11, 65, 72, 81, 99, 100, 150] and window of 3."
   ]
  },
  {
   "cell_type": "markdown",
   "id": "5c969665",
   "metadata": {},
   "source": [
    "###### 1st way"
   ]
  },
  {
   "cell_type": "code",
   "execution_count": 1,
   "id": "9cabc4ef",
   "metadata": {},
   "outputs": [],
   "source": [
    "import numpy as np\n",
    "l=[3,5,7,2,8,10,11,65,72,81,99,100,150]"
   ]
  },
  {
   "cell_type": "code",
   "execution_count": 2,
   "id": "1ca054d3",
   "metadata": {},
   "outputs": [],
   "source": [
    "def moving_average(l):\n",
    "    i=0\n",
    "    c=w=int(input('Enter window size\\n'))\n",
    "    l1=[]\n",
    "    while i<len(l):\n",
    "        if len(l[i:w])==c:\n",
    "            ans=sum(l[i:w])/c\n",
    "            ans=np.round(ans,2)\n",
    "            l1.append(ans)\n",
    "        i+=1\n",
    "        w+=1\n",
    "    return l1"
   ]
  },
  {
   "cell_type": "code",
   "execution_count": 3,
   "id": "5f73dfff",
   "metadata": {},
   "outputs": [
    {
     "name": "stdout",
     "output_type": "stream",
     "text": [
      "Enter window size\n",
      "3\n"
     ]
    },
    {
     "data": {
      "text/plain": [
       "[5.0, 4.67, 5.67, 6.67, 9.67, 28.67, 49.33, 72.67, 84.0, 93.33, 116.33]"
      ]
     },
     "execution_count": 3,
     "metadata": {},
     "output_type": "execute_result"
    }
   ],
   "source": [
    "moving_average(l)"
   ]
  },
  {
   "cell_type": "markdown",
   "id": "ab082d3f",
   "metadata": {},
   "source": [
    "###### 2nd Way"
   ]
  },
  {
   "cell_type": "code",
   "execution_count": 4,
   "id": "d00d6208",
   "metadata": {},
   "outputs": [],
   "source": [
    "def mov_avg(l,n=3):\n",
    "    ans=np.cumsum(l)\n",
    "    ans[n:]=ans[n:]-ans[:-n]\n",
    "    return ans[n-1:]/n"
   ]
  },
  {
   "cell_type": "code",
   "execution_count": 5,
   "id": "27bca7b2",
   "metadata": {},
   "outputs": [
    {
     "data": {
      "text/plain": [
       "array([  5.        ,   4.66666667,   5.66666667,   6.66666667,\n",
       "         9.66666667,  28.66666667,  49.33333333,  72.66666667,\n",
       "        84.        ,  93.33333333, 116.33333333])"
      ]
     },
     "execution_count": 5,
     "metadata": {},
     "output_type": "execute_result"
    }
   ],
   "source": [
    "mov_avg([3, 5, 7, 2, 8, 10, 11, 65, 72, 81, 99, 100, 150])"
   ]
  }
 ],
 "metadata": {
  "kernelspec": {
   "display_name": "Python 3",
   "language": "python",
   "name": "python3"
  },
  "language_info": {
   "codemirror_mode": {
    "name": "ipython",
    "version": 3
   },
   "file_extension": ".py",
   "mimetype": "text/x-python",
   "name": "python",
   "nbconvert_exporter": "python",
   "pygments_lexer": "ipython3",
   "version": "3.8.8"
  }
 },
 "nbformat": 4,
 "nbformat_minor": 5
}
